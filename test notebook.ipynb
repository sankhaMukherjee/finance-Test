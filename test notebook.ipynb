{
 "cells": [
  {
   "cell_type": "code",
   "execution_count": 1,
   "metadata": {},
   "outputs": [],
   "source": [
    "from zipline.api import order_target, record, symbol \n",
    " \n",
    "\n",
    "def initialize(context): \n",
    "    context.i = 0 \n",
    "    context.asset = symbol('AAPL') \n",
    " \n",
    "\n",
    "def handle_data(context, data): \n",
    "    # Skip first 300 days to get full windows \n",
    "    context.i += 1 \n",
    "    if context.i < 300: \n",
    "        return \n",
    " \n",
    "\n",
    "    # Compute averages \n",
    "    # data.history() has to be called with the same params \n",
    "    # from above and returns a pandas dataframe. \n",
    "    short_mavg = data.history(context.asset, 'price', bar_count=100, frequency=\"1d\").mean() \n",
    "    long_mavg = data.history(context.asset, 'price', bar_count=300, frequency=\"1d\").mean() \n",
    " \n",
    "\n",
    "    # Trading logic \n",
    "    if short_mavg > long_mavg: \n",
    "        # order_target orders as many shares as needed to \n",
    "        # achieve the desired number of shares. \n",
    "        order_target(context.asset, 100) \n",
    "    elif short_mavg < long_mavg: \n",
    "        order_target(context.asset, 0) \n",
    " \n",
    "\n",
    "    # Save values for later inspection \n",
    "    record(AAPL=data.current(context.asset, 'price'), \n",
    "           short_mavg=short_mavg, \n",
    "           long_mavg=long_mavg) "
   ]
  },
  {
   "cell_type": "code",
   "execution_count": null,
   "metadata": {},
   "outputs": [],
   "source": []
  }
 ],
 "metadata": {
  "kernelspec": {
   "display_name": "Python 3",
   "language": "python",
   "name": "python3"
  },
  "language_info": {
   "codemirror_mode": {
    "name": "ipython",
    "version": 3
   },
   "file_extension": ".py",
   "mimetype": "text/x-python",
   "name": "python",
   "nbconvert_exporter": "python",
   "pygments_lexer": "ipython3",
   "version": "3.6.8"
  }
 },
 "nbformat": 4,
 "nbformat_minor": 2
}
