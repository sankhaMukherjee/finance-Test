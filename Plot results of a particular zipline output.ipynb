{
 "cells": [
  {
   "cell_type": "code",
   "execution_count": 7,
   "metadata": {},
   "outputs": [],
   "source": [
    "import pandas as pd\n",
    "import matplotlib.pyplot as plt"
   ]
  },
  {
   "cell_type": "code",
   "execution_count": 2,
   "metadata": {},
   "outputs": [
    {
     "name": "stdout",
     "output_type": "stream",
     "text": [
      " \u001b[0m\u001b[01;34mbin\u001b[0m/                     \u001b[01;34menv\u001b[0m/          Readme.md              test.pickle\r\n",
      " dual_moving_average.py   plotData.py  'test notebook.ipynb'   Untitled.ipynb\r\n"
     ]
    }
   ],
   "source": [
    "ls"
   ]
  },
  {
   "cell_type": "markdown",
   "metadata": {},
   "source": [
    "Use the following command for generating an output that can later be run ...\n",
    "\n",
    "`zipline run -f dual_moving_average.py --capital-base 500 --bundle quantopian-quandl -s 2016-01-01 -e 2017-01-01 -o test.pickle `"
   ]
  },
  {
   "cell_type": "code",
   "execution_count": 4,
   "metadata": {},
   "outputs": [
    {
     "data": {
      "text/html": [
       "<div>\n",
       "<style scoped>\n",
       "    .dataframe tbody tr th:only-of-type {\n",
       "        vertical-align: middle;\n",
       "    }\n",
       "\n",
       "    .dataframe tbody tr th {\n",
       "        vertical-align: top;\n",
       "    }\n",
       "\n",
       "    .dataframe thead th {\n",
       "        text-align: right;\n",
       "    }\n",
       "</style>\n",
       "<table border=\"1\" class=\"dataframe\">\n",
       "  <thead>\n",
       "    <tr style=\"text-align: right;\">\n",
       "      <th></th>\n",
       "      <th>algo_volatility</th>\n",
       "      <th>algorithm_period_return</th>\n",
       "      <th>alpha</th>\n",
       "      <th>benchmark_period_return</th>\n",
       "      <th>benchmark_volatility</th>\n",
       "      <th>beta</th>\n",
       "      <th>capital_used</th>\n",
       "      <th>ending_cash</th>\n",
       "      <th>ending_exposure</th>\n",
       "      <th>ending_value</th>\n",
       "      <th>...</th>\n",
       "      <th>short_exposure</th>\n",
       "      <th>short_value</th>\n",
       "      <th>shorts_count</th>\n",
       "      <th>sortino</th>\n",
       "      <th>starting_cash</th>\n",
       "      <th>starting_exposure</th>\n",
       "      <th>starting_value</th>\n",
       "      <th>trading_days</th>\n",
       "      <th>transactions</th>\n",
       "      <th>treasury_period_return</th>\n",
       "    </tr>\n",
       "  </thead>\n",
       "  <tbody>\n",
       "    <tr>\n",
       "      <th>2016-01-04 21:00:00+00:00</th>\n",
       "      <td>NaN</td>\n",
       "      <td>0.0</td>\n",
       "      <td>NaN</td>\n",
       "      <td>-0.013984</td>\n",
       "      <td>NaN</td>\n",
       "      <td>NaN</td>\n",
       "      <td>0.0</td>\n",
       "      <td>500.0</td>\n",
       "      <td>0.0</td>\n",
       "      <td>0.0</td>\n",
       "      <td>...</td>\n",
       "      <td>0.0</td>\n",
       "      <td>0.0</td>\n",
       "      <td>0</td>\n",
       "      <td>None</td>\n",
       "      <td>500.0</td>\n",
       "      <td>0.0</td>\n",
       "      <td>0.0</td>\n",
       "      <td>1</td>\n",
       "      <td>[]</td>\n",
       "      <td>0.0</td>\n",
       "    </tr>\n",
       "    <tr>\n",
       "      <th>2016-01-05 21:00:00+00:00</th>\n",
       "      <td>0.0</td>\n",
       "      <td>0.0</td>\n",
       "      <td>0.0</td>\n",
       "      <td>-0.012312</td>\n",
       "      <td>0.175996</td>\n",
       "      <td>0.0</td>\n",
       "      <td>0.0</td>\n",
       "      <td>500.0</td>\n",
       "      <td>0.0</td>\n",
       "      <td>0.0</td>\n",
       "      <td>...</td>\n",
       "      <td>0.0</td>\n",
       "      <td>0.0</td>\n",
       "      <td>0</td>\n",
       "      <td>None</td>\n",
       "      <td>500.0</td>\n",
       "      <td>0.0</td>\n",
       "      <td>0.0</td>\n",
       "      <td>2</td>\n",
       "      <td>[]</td>\n",
       "      <td>0.0</td>\n",
       "    </tr>\n",
       "    <tr>\n",
       "      <th>2016-01-06 21:00:00+00:00</th>\n",
       "      <td>0.0</td>\n",
       "      <td>0.0</td>\n",
       "      <td>0.0</td>\n",
       "      <td>-0.024770</td>\n",
       "      <td>0.137854</td>\n",
       "      <td>0.0</td>\n",
       "      <td>0.0</td>\n",
       "      <td>500.0</td>\n",
       "      <td>0.0</td>\n",
       "      <td>0.0</td>\n",
       "      <td>...</td>\n",
       "      <td>0.0</td>\n",
       "      <td>0.0</td>\n",
       "      <td>0</td>\n",
       "      <td>None</td>\n",
       "      <td>500.0</td>\n",
       "      <td>0.0</td>\n",
       "      <td>0.0</td>\n",
       "      <td>3</td>\n",
       "      <td>[]</td>\n",
       "      <td>0.0</td>\n",
       "    </tr>\n",
       "    <tr>\n",
       "      <th>2016-01-07 21:00:00+00:00</th>\n",
       "      <td>0.0</td>\n",
       "      <td>0.0</td>\n",
       "      <td>0.0</td>\n",
       "      <td>-0.048168</td>\n",
       "      <td>0.167868</td>\n",
       "      <td>0.0</td>\n",
       "      <td>0.0</td>\n",
       "      <td>500.0</td>\n",
       "      <td>0.0</td>\n",
       "      <td>0.0</td>\n",
       "      <td>...</td>\n",
       "      <td>0.0</td>\n",
       "      <td>0.0</td>\n",
       "      <td>0</td>\n",
       "      <td>None</td>\n",
       "      <td>500.0</td>\n",
       "      <td>0.0</td>\n",
       "      <td>0.0</td>\n",
       "      <td>4</td>\n",
       "      <td>[]</td>\n",
       "      <td>0.0</td>\n",
       "    </tr>\n",
       "    <tr>\n",
       "      <th>2016-01-08 21:00:00+00:00</th>\n",
       "      <td>0.0</td>\n",
       "      <td>0.0</td>\n",
       "      <td>0.0</td>\n",
       "      <td>-0.058601</td>\n",
       "      <td>0.145654</td>\n",
       "      <td>0.0</td>\n",
       "      <td>0.0</td>\n",
       "      <td>500.0</td>\n",
       "      <td>0.0</td>\n",
       "      <td>0.0</td>\n",
       "      <td>...</td>\n",
       "      <td>0.0</td>\n",
       "      <td>0.0</td>\n",
       "      <td>0</td>\n",
       "      <td>None</td>\n",
       "      <td>500.0</td>\n",
       "      <td>0.0</td>\n",
       "      <td>0.0</td>\n",
       "      <td>5</td>\n",
       "      <td>[]</td>\n",
       "      <td>0.0</td>\n",
       "    </tr>\n",
       "  </tbody>\n",
       "</table>\n",
       "<p>5 rows × 37 columns</p>\n",
       "</div>"
      ],
      "text/plain": [
       "                           algo_volatility  algorithm_period_return  alpha  \\\n",
       "2016-01-04 21:00:00+00:00              NaN                      0.0    NaN   \n",
       "2016-01-05 21:00:00+00:00              0.0                      0.0    0.0   \n",
       "2016-01-06 21:00:00+00:00              0.0                      0.0    0.0   \n",
       "2016-01-07 21:00:00+00:00              0.0                      0.0    0.0   \n",
       "2016-01-08 21:00:00+00:00              0.0                      0.0    0.0   \n",
       "\n",
       "                           benchmark_period_return  benchmark_volatility  \\\n",
       "2016-01-04 21:00:00+00:00                -0.013984                   NaN   \n",
       "2016-01-05 21:00:00+00:00                -0.012312              0.175996   \n",
       "2016-01-06 21:00:00+00:00                -0.024770              0.137854   \n",
       "2016-01-07 21:00:00+00:00                -0.048168              0.167868   \n",
       "2016-01-08 21:00:00+00:00                -0.058601              0.145654   \n",
       "\n",
       "                           beta  capital_used  ending_cash  ending_exposure  \\\n",
       "2016-01-04 21:00:00+00:00   NaN           0.0        500.0              0.0   \n",
       "2016-01-05 21:00:00+00:00   0.0           0.0        500.0              0.0   \n",
       "2016-01-06 21:00:00+00:00   0.0           0.0        500.0              0.0   \n",
       "2016-01-07 21:00:00+00:00   0.0           0.0        500.0              0.0   \n",
       "2016-01-08 21:00:00+00:00   0.0           0.0        500.0              0.0   \n",
       "\n",
       "                           ending_value          ...            \\\n",
       "2016-01-04 21:00:00+00:00           0.0          ...             \n",
       "2016-01-05 21:00:00+00:00           0.0          ...             \n",
       "2016-01-06 21:00:00+00:00           0.0          ...             \n",
       "2016-01-07 21:00:00+00:00           0.0          ...             \n",
       "2016-01-08 21:00:00+00:00           0.0          ...             \n",
       "\n",
       "                           short_exposure  short_value  shorts_count  sortino  \\\n",
       "2016-01-04 21:00:00+00:00             0.0          0.0             0     None   \n",
       "2016-01-05 21:00:00+00:00             0.0          0.0             0     None   \n",
       "2016-01-06 21:00:00+00:00             0.0          0.0             0     None   \n",
       "2016-01-07 21:00:00+00:00             0.0          0.0             0     None   \n",
       "2016-01-08 21:00:00+00:00             0.0          0.0             0     None   \n",
       "\n",
       "                           starting_cash  starting_exposure  starting_value  \\\n",
       "2016-01-04 21:00:00+00:00          500.0                0.0             0.0   \n",
       "2016-01-05 21:00:00+00:00          500.0                0.0             0.0   \n",
       "2016-01-06 21:00:00+00:00          500.0                0.0             0.0   \n",
       "2016-01-07 21:00:00+00:00          500.0                0.0             0.0   \n",
       "2016-01-08 21:00:00+00:00          500.0                0.0             0.0   \n",
       "\n",
       "                           trading_days transactions treasury_period_return  \n",
       "2016-01-04 21:00:00+00:00             1           []                    0.0  \n",
       "2016-01-05 21:00:00+00:00             2           []                    0.0  \n",
       "2016-01-06 21:00:00+00:00             3           []                    0.0  \n",
       "2016-01-07 21:00:00+00:00             4           []                    0.0  \n",
       "2016-01-08 21:00:00+00:00             5           []                    0.0  \n",
       "\n",
       "[5 rows x 37 columns]"
      ]
     },
     "execution_count": 4,
     "metadata": {},
     "output_type": "execute_result"
    }
   ],
   "source": [
    "result = pd.read_pickle('test.pickle')\n",
    "result.head()"
   ]
  },
  {
   "cell_type": "code",
   "execution_count": 10,
   "metadata": {},
   "outputs": [
    {
     "data": {
      "image/png": "[encoded data removed]",
      "text/plain": [
       "<Figure size 432x288 with 1 Axes>"
      ]
     },
     "metadata": {
      "needs_background": "light"
     },
     "output_type": "display_data"
    }
   ],
   "source": [
    "plt.plot(result.index, result.benchmark_volatility)\n",
    "plt.plot(result.index, result.benchmark_period_return)\n",
    "plt.show()\n",
    "plt.close()"
   ]
  },
  {
   "cell_type": "code",
   "execution_count": 12,
   "metadata": {},
   "outputs": [
    {
     "data": {
      "image/png": "[encoded data removed]",
      "text/plain": [
       "<Figure size 432x288 with 1 Axes>"
      ]
     },
     "metadata": {
      "needs_background": "light"
     },
     "output_type": "display_data"
    }
   ],
   "source": [
    "plt.plot(result.benchmark_period_return, result.benchmark_volatility, '.')\n",
    "plt.show()\n",
    "plt.close()"
   ]
  },
  {
   "cell_type": "code",
   "execution_count": null,
   "metadata": {},
   "outputs": [],
   "source": []
  }
 ],
 "metadata": {
  "kernelspec": {
   "display_name": "Python 3",
   "language": "python",
   "name": "python3"
  },
  "language_info": {
   "codemirror_mode": {
    "name": "ipython",
    "version": 3
   },
   "file_extension": ".py",
   "mimetype": "text/x-python",
   "name": "python",
   "nbconvert_exporter": "python",
   "pygments_lexer": "ipython3",
   "version": "3.6.8"
  }
 },
 "nbformat": 4,
 "nbformat_minor": 2
}
